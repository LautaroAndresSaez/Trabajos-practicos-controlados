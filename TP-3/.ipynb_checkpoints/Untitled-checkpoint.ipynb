{
 "cells": [
  {
   "cell_type": "code",
   "execution_count": 1,
   "metadata": {},
   "outputs": [],
   "source": [
    "import numpy as np \n",
    "import matplotlib.pyplot as plt\n",
    "import control"
   ]
  },
  {
   "cell_type": "code",
   "execution_count": 2,
   "metadata": {},
   "outputs": [],
   "source": [
    "plt.rcParams.update({\n",
    "    'figure.dpi': 120,\n",
    "})"
   ]
  },
  {
   "cell_type": "code",
   "execution_count": 3,
   "metadata": {},
   "outputs": [],
   "source": [
    "def save_path( name ):\n",
    "    return f'Img/{name}.jpg'"
   ]
  },
  {
   "cell_type": "code",
   "execution_count": 4,
   "metadata": {},
   "outputs": [],
   "source": [
    "def eval_model( C, D, X, u ):\n",
    "    return C.dot(X) + D.dot( u ) \n",
    "def compute_y( A, B, C, D, X_0, u, steps):\n",
    "    X = X_0\n",
    "    X_k = [ ]\n",
    "    Y_k = [  ]\n",
    "    for i in range( steps ):\n",
    "        u_k = u( i )\n",
    "        Y = eval_model( C, D, X, u_k ).reshape(-1)\n",
    "        X_k.append( X )\n",
    "        Y_k.append( Y )\n",
    "        X = A.dot( X ) + B.dot( u_k )\n",
    "        X = X.reshape( (2, 1) )\n",
    "    return np.array(X_k), np.array(Y_k)"
   ]
  },
  {
   "cell_type": "code",
   "execution_count": 5,
   "metadata": {},
   "outputs": [],
   "source": [
    "def separate_states( X, n ):\n",
    "    x_dict = dict()\n",
    "    for i in range( 1, n+1 ):\n",
    "        x_dict[ i ] = []\n",
    "    print( x_dict )\n",
    "    for x in X:\n",
    "        for i in range(n):\n",
    "            x_dict[ i + 1 ].append( x[i] )\n",
    "    return x_dict"
   ]
  },
  {
   "cell_type": "code",
   "execution_count": null,
   "metadata": {},
   "outputs": [],
   "source": []
  },
  {
   "cell_type": "markdown",
   "metadata": {},
   "source": [
    "## Ejercicio 1"
   ]
  },
  {
   "cell_type": "code",
   "execution_count": 6,
   "metadata": {},
   "outputs": [],
   "source": [
    "A = np.array( [ [0, 1], [9/20, 2/5] ] )\n",
    "B = np.array( [ [[0], [4]] ] )\n",
    "C = np.array( [ [1, 0] ] )\n",
    "D = np.array( [0] )"
   ]
  },
  {
   "cell_type": "code",
   "execution_count": 7,
   "metadata": {},
   "outputs": [],
   "source": [
    "u = lambda k: np.zeros( len(k) ) if type(k) == list else 0\n",
    "X_0 = np.array( [[2], [9/20]] )\n",
    "n = 6\n",
    "X_k, Y_k = compute_y( A, B, C, D, X_0, u, n )"
   ]
  },
  {
   "cell_type": "code",
   "execution_count": 8,
   "metadata": {},
   "outputs": [
    {
     "data": {
      "text/plain": [
       "array([[2.      ],\n",
       "       [0.45    ],\n",
       "       [1.08    ],\n",
       "       [0.6345  ],\n",
       "       [0.7398  ],\n",
       "       [0.581445]])"
      ]
     },
     "execution_count": 8,
     "metadata": {},
     "output_type": "execute_result"
    }
   ],
   "source": [
    "Y_k"
   ]
  },
  {
   "cell_type": "code",
   "execution_count": 9,
   "metadata": {},
   "outputs": [
    {
     "name": "stderr",
     "output_type": "stream",
     "text": [
      "<ipython-input-9-0dc3ef85498a>:2: UserWarning: In Matplotlib 3.3 individual lines on a stem plot will be added as a LineCollection instead of individual lines. This significantly improves the performance of a stem plot. To remove this warning and switch to the new behaviour, set the \"use_line_collection\" keyword argument to True.\n",
      "  plt.stem( k, Y_k)\n"
     ]
    },
    {
     "data": {
      "image/png": "[encoded data removed]",
      "text/plain": [
       "<Figure size 720x480 with 1 Axes>"
      ]
     },
     "metadata": {
      "needs_background": "light"
     },
     "output_type": "display_data"
    }
   ],
   "source": [
    "k = np.arange( 0, n, 1 )\n",
    "plt.stem( k, Y_k)\n",
    "plt.grid()\n",
    "plt.xlabel('k')\n",
    "plt.ylabel('y[k]')\n",
    "plt.savefig( save_path( '1-b' ) )"
   ]
  },
  {
   "cell_type": "code",
   "execution_count": 10,
   "metadata": {},
   "outputs": [
    {
     "name": "stdout",
     "output_type": "stream",
     "text": [
      "[[[26.66666667]]\n",
      "\n",
      " [[26.66666667]]]\n"
     ]
    }
   ],
   "source": [
    "u = lambda k: np.ones( len(k) ) if type(k) == list else 1\n",
    "X_0 = np.array( [[0], [0]] )\n",
    "n = 1000\n",
    "X_k, Y_k = compute_y( A, B, C, D, X_0, u, n )\n",
    "\n",
    "x_1 = []\n",
    "x_2 = []\n",
    "for x in X_k:\n",
    "    x_1.append( x[0] )\n",
    "    x_2.append( x[1] )    \n",
    "    \n",
    "print( np.linalg.inv( np.eye(2) - A ).dot(B) )"
   ]
  },
  {
   "cell_type": "code",
   "execution_count": 11,
   "metadata": {},
   "outputs": [
    {
     "name": "stderr",
     "output_type": "stream",
     "text": [
      "<ipython-input-11-7ba03a683ca9>:1: UserWarning: In Matplotlib 3.3 individual lines on a stem plot will be added as a LineCollection instead of individual lines. This significantly improves the performance of a stem plot. To remove this warning and switch to the new behaviour, set the \"use_line_collection\" keyword argument to True.\n",
      "  plt.stem( x_1[:6], label='$x_1[k]$' )\n",
      "<ipython-input-11-7ba03a683ca9>:2: UserWarning: In Matplotlib 3.3 individual lines on a stem plot will be added as a LineCollection instead of individual lines. This significantly improves the performance of a stem plot. To remove this warning and switch to the new behaviour, set the \"use_line_collection\" keyword argument to True.\n",
      "  markerline, stemlines, baseline = plt.stem( x_2[:6], markerfmt='D', linefmt='grey', label='$x_2[k]$')\n"
     ]
    },
    {
     "data": {
      "image/png": "[encoded data removed]",
      "text/plain": [
       "<Figure size 720x480 with 1 Axes>"
      ]
     },
     "metadata": {
      "needs_background": "light"
     },
     "output_type": "display_data"
    }
   ],
   "source": [
    "plt.stem( x_1[:6], label='$x_1[k]$' )\n",
    "markerline, stemlines, baseline = plt.stem( x_2[:6], markerfmt='D', linefmt='grey', label='$x_2[k]$')\n",
    "markerline.set_markerfacecolor( 'none' )\n",
    "plt.plot( x_1[-1]*np.ones(6), label='$x_i[\\infty], i \\in \\{ 1, 2 \\}$ ' )\n",
    "plt.grid()\n",
    "plt.legend(loc='upper right')\n",
    "plt.xlabel('k')\n",
    "plt.savefig( save_path( '1-d' ) )"
   ]
  },
  {
   "cell_type": "markdown",
   "metadata": {},
   "source": [
    "## Ejercicio 2"
   ]
  },
  {
   "cell_type": "code",
   "execution_count": 12,
   "metadata": {},
   "outputs": [],
   "source": [
    "A = np.array( [ [0, 1], [0, 4/5 ] ] )\n",
    "B = np.array( [ [0], [1] ] )\n",
    "C = np.array( [ 1, 0 ] )\n",
    "D = np.array( [ 0 ] )"
   ]
  },
  {
   "cell_type": "code",
   "execution_count": 13,
   "metadata": {},
   "outputs": [],
   "source": [
    "u = lambda k: 5 if k == 2 else 0\n",
    "X_0 = np.array( [ [0], [0] ] )\n",
    "n = 6\n",
    "X_k, Y_k = compute_y( A, B, C, D, X_0 ,u, n )"
   ]
  },
  {
   "cell_type": "code",
   "execution_count": 14,
   "metadata": {},
   "outputs": [
    {
     "name": "stderr",
     "output_type": "stream",
     "text": [
      "<ipython-input-14-b2a4b7c403dc>:2: UserWarning: In Matplotlib 3.3 individual lines on a stem plot will be added as a LineCollection instead of individual lines. This significantly improves the performance of a stem plot. To remove this warning and switch to the new behaviour, set the \"use_line_collection\" keyword argument to True.\n",
      "  plt.stem( k, Y_k )\n"
     ]
    },
    {
     "data": {
      "image/png": "[encoded data removed]",
      "text/plain": [
       "<Figure size 720x480 with 1 Axes>"
      ]
     },
     "metadata": {
      "needs_background": "light"
     },
     "output_type": "display_data"
    }
   ],
   "source": [
    "k = np.arange( 0, n, 1 )\n",
    "plt.stem( k, Y_k )\n",
    "plt.grid()\n",
    "plt.xlabel( 'k' )\n",
    "plt.ylabel( 'y[k]' )\n",
    "plt.savefig( save_path( '2-b' ) )"
   ]
  },
  {
   "cell_type": "code",
   "execution_count": 15,
   "metadata": {},
   "outputs": [],
   "source": [
    "x_1 = []\n",
    "x_2 = []\n",
    "for x in X_k[:-1]:\n",
    "    x_1.append( x[0] )\n",
    "    x_2.append( x[1] )"
   ]
  },
  {
   "cell_type": "code",
   "execution_count": 16,
   "metadata": {},
   "outputs": [
    {
     "data": {
      "image/png": "[encoded data removed]",
      "text/plain": [
       "<Figure size 720x480 with 1 Axes>"
      ]
     },
     "metadata": {
      "needs_background": "light"
     },
     "output_type": "display_data"
    }
   ],
   "source": [
    "plt.scatter( x_1, x_2 )\n",
    "plt.grid()\n",
    "plt.xlabel( r'$x_1$' )\n",
    "plt.ylabel( r'$x_2$' )\n",
    "plt.legend( ['X(k)'] )\n",
    "plt.annotate( \"\", (x_1[3], x_2[3]), (x_1[2], x_2[2]), arrowprops=dict(arrowstyle=\"->\") )\n",
    "plt.annotate( \"\", (x_1[4], x_2[4]), (x_1[3], x_2[3]), arrowprops=dict(arrowstyle=\"->\") )\n",
    "plt.annotate( r\"k=2 $\\to$ k=3\", (0,2), (0.125,2), rotation=90 )\n",
    "plt.annotate( r\"k=3 $\\to$ k=4\", (4,2), (2.125,4), rotation=-10 )\n",
    "plt.savefig( save_path('2-c') )"
   ]
  },
  {
   "cell_type": "markdown",
   "metadata": {},
   "source": [
    "## Ejercicio 3"
   ]
  },
  {
   "cell_type": "code",
   "execution_count": 17,
   "metadata": {},
   "outputs": [],
   "source": [
    "x_1 = lambda k: np.zeros( len(k) ) \n",
    "x_2 = lambda k: k "
   ]
  },
  {
   "cell_type": "code",
   "execution_count": 18,
   "metadata": {},
   "outputs": [],
   "source": [
    "k = np.linspace(-3, 3, 1000)\n",
    "k_tick = []\n",
    "\n",
    "for k_ in [0.48, 0.49, 0.5, 0.51,0.52]: \n",
    "    k_tick.append( '$x_1[0]$ + ' + str( round(k_ - 0.5, 2) ) )"
   ]
  },
  {
   "cell_type": "code",
   "execution_count": 19,
   "metadata": {},
   "outputs": [
    {
     "data": {
      "image/png": "[encoded data removed]",
      "text/plain": [
       "<Figure size 720x480 with 1 Axes>"
      ]
     },
     "metadata": {
      "needs_background": "light"
     },
     "output_type": "display_data"
    }
   ],
   "source": [
    "plt.plot( x_1(k), x_2(k) )\n",
    "plt.grid()\n",
    "plt.xlabel( '$x_1 + x_1[0]$' )\n",
    "plt.ylabel( '$x_2$' )\n",
    "\n",
    "plt.savefig( save_path('3-b') )"
   ]
  },
  {
   "cell_type": "markdown",
   "metadata": {},
   "source": [
    "## Ejercicio 7"
   ]
  },
  {
   "cell_type": "code",
   "execution_count": 20,
   "metadata": {},
   "outputs": [],
   "source": [
    "A = np.array( [ [0, 1], [9/20, 2/5] ] )\n",
    "B = np.array( [ [0], [4] ] )\n",
    "C = np.array( [ [1, 0] ] )\n",
    "D = np.array( [0] )\n",
    "u = lambda k: np.ones( len(k) ) if type(k) == list else 1"
   ]
  },
  {
   "cell_type": "code",
   "execution_count": 21,
   "metadata": {},
   "outputs": [],
   "source": [
    "A = A - np.array( [[ 0, 0 ], [ 9/20, 2/5 ]] )"
   ]
  },
  {
   "cell_type": "code",
   "execution_count": null,
   "metadata": {},
   "outputs": [],
   "source": []
  },
  {
   "cell_type": "code",
   "execution_count": 22,
   "metadata": {},
   "outputs": [],
   "source": [
    "X_0 = np.array( [ [1/2], [2] ] )"
   ]
  },
  {
   "cell_type": "code",
   "execution_count": 23,
   "metadata": {},
   "outputs": [],
   "source": [
    "X_k, Y_k = compute_y( A, B, C, D, X_0, u, 16 )"
   ]
  },
  {
   "cell_type": "code",
   "execution_count": 24,
   "metadata": {},
   "outputs": [
    {
     "name": "stderr",
     "output_type": "stream",
     "text": [
      "<ipython-input-24-842f110a8db8>:2: UserWarning: In Matplotlib 3.3 individual lines on a stem plot will be added as a LineCollection instead of individual lines. This significantly improves the performance of a stem plot. To remove this warning and switch to the new behaviour, set the \"use_line_collection\" keyword argument to True.\n",
      "  plt.stem(k , Y_k)\n"
     ]
    },
    {
     "data": {
      "image/png": "[encoded data removed]",
      "text/plain": [
       "<Figure size 720x480 with 1 Axes>"
      ]
     },
     "metadata": {
      "needs_background": "light"
     },
     "output_type": "display_data"
    }
   ],
   "source": [
    "k = np.arange( 0, 16, 1 )\n",
    "plt.stem(k , Y_k)\n",
    "plt.grid()\n",
    "plt.annotate( f\"$x_1(0)$\", (0, 1/2), (-.5,1), arrowprops=dict(arrowstyle=\"->\") )\n",
    "plt.annotate( f\"$x_2(0)$\", (1, 2), (.5,2.5), arrowprops=dict(arrowstyle=\"->\") )\n",
    "plt.xlabel( 'k' )\n",
    "plt.ylabel( 'y[k]' )\n",
    "plt.savefig( save_path( '7-c' ) )"
   ]
  },
  {
   "cell_type": "markdown",
   "metadata": {},
   "source": [
    "## Ejercicio 8"
   ]
  },
  {
   "cell_type": "code",
   "execution_count": 25,
   "metadata": {},
   "outputs": [],
   "source": [
    "l_1_a = 23/20\n",
    "l_2_a = 57/20\n",
    "l_1_b = 3/5\n",
    "l_2_b = 19/30\n",
    "A = lambda l_1, l_2: np.array( [ [ 0.5, 0.6 ], [0.3, 0.1] ] ) - np.array( [ [l_1, l_2], [0, 0] ] )\n",
    "B = np.array( [ [1], [0] ] )\n",
    "C = np.array( [ 1, 0 ] )\n",
    "D = np.array( [ 0 ] )"
   ]
  },
  {
   "cell_type": "code",
   "execution_count": 26,
   "metadata": {},
   "outputs": [],
   "source": [
    "u = lambda k: 1"
   ]
  },
  {
   "cell_type": "code",
   "execution_count": 27,
   "metadata": {},
   "outputs": [],
   "source": [
    "n = 30\n",
    "X_0 = np.array( [ [0], [0] ] )\n",
    "X_k_a, Y_k_a = compute_y( A(l_1_a, l_2_a) , B, C, D, X_0, u, n )\n",
    "X_k_b, Y_k_b = compute_y( A(l_2_b, l_2_b) , B, C, D, X_0, u, n )"
   ]
  },
  {
   "cell_type": "code",
   "execution_count": 28,
   "metadata": {},
   "outputs": [
    {
     "name": "stderr",
     "output_type": "stream",
     "text": [
      "<ipython-input-28-eddf899ba590>:3: UserWarning: In Matplotlib 3.3 individual lines on a stem plot will be added as a LineCollection instead of individual lines. This significantly improves the performance of a stem plot. To remove this warning and switch to the new behaviour, set the \"use_line_collection\" keyword argument to True.\n",
      "  axs[0].stem( k, Y_k_a, label=f'L=[ { round(l_1_a, 2) }, { round(l_2_a, 2) } ] ' + '- $\\lambda \\in${ 0.1, 0.25 }' )\n",
      "<ipython-input-28-eddf899ba590>:4: UserWarning: In Matplotlib 3.3 individual lines on a stem plot will be added as a LineCollection instead of individual lines. This significantly improves the performance of a stem plot. To remove this warning and switch to the new behaviour, set the \"use_line_collection\" keyword argument to True.\n",
      "  axs[1].stem( k, Y_k_b, label=f'L=[ { round(l_1_b, 2) }, { round(l_2_b, 2) } ] ' + '- $\\lambda \\in${ 0 }' )\n"
     ]
    },
    {
     "data": {
      "image/png": "[encoded data removed]",
      "text/plain": [
       "<Figure size 1200x600 with 2 Axes>"
      ]
     },
     "metadata": {
      "needs_background": "light"
     },
     "output_type": "display_data"
    }
   ],
   "source": [
    "k = np.arange( 0, n, 1 )\n",
    "fig, axs = plt.subplots( 1, 2, figsize=(10, 5) )\n",
    "axs[0].stem( k, Y_k_a, label=f'L=[ { round(l_1_a, 2) }, { round(l_2_a, 2) } ] ' + '- $\\lambda \\in${ 0.1, 0.25 }' )\n",
    "axs[1].stem( k, Y_k_b, label=f'L=[ { round(l_1_b, 2) }, { round(l_2_b, 2) } ] ' + '- $\\lambda \\in${ 0 }' )\n",
    "axs[0].plot( k, Y_k_a[-1]*np.ones( len(k) ), '-.k', label='$y[\\infty]$'  )\n",
    "axs[1].plot( k, Y_k_b[-1]*np.ones( len(k) ), '-.k', label='$y[\\infty]$'  )\n",
    "\n",
    "for ax in axs:\n",
    "    ax.grid()\n",
    "    ax.set_xlabel( 'k' )\n",
    "    ax.set_ylabel( 'y[k]' )\n",
    "    ax.legend()\n",
    "    ax.set_ylim( [-0.25, 1.25] )\n",
    "   \n",
    "plt.savefig( save_path( '8-c' ) )"
   ]
  },
  {
   "cell_type": "markdown",
   "metadata": {},
   "source": [
    "## Ejercicio 9"
   ]
  },
  {
   "cell_type": "code",
   "execution_count": 29,
   "metadata": {},
   "outputs": [
    {
     "data": {
      "text/plain": [
       "array([-1])"
      ]
     },
     "execution_count": 29,
     "metadata": {},
     "output_type": "execute_result"
    }
   ],
   "source": [
    "A = np.array( [1, 2, 3] )\n",
    "A.shape[0]\n",
    "np.arange( -2+1, 1, 1 )[:-1]"
   ]
  },
  {
   "cell_type": "markdown",
   "metadata": {},
   "source": [
    "## Ejercicio 10"
   ]
  },
  {
   "cell_type": "code",
   "execution_count": 30,
   "metadata": {},
   "outputs": [],
   "source": [
    "def observer( A, psi ,y, u, k ):\n",
    "    x = []\n",
    "    k_min = A.shape[0] \n",
    "    ref_y = np.arange( 1 - k_min, 1, 1 )\n",
    "    for i in range( k+1 ):\n",
    "        if i < k_min:\n",
    "            continue\n",
    "        u_i = u( ref_y[:-1] + i ).reshape(-1,1)\n",
    "        y_i = y( ref_y + i ).reshape( -1,1 )\n",
    "        x.append( A.dot( y_i ) + psi.dot( u_i ) )\n",
    "    return np.array( x )"
   ]
  },
  {
   "cell_type": "code",
   "execution_count": 31,
   "metadata": {},
   "outputs": [],
   "source": [
    "def dinamic_observer( Phi, Gamma, C, K , y ,k, X_0 ):\n",
    "    X = []\n",
    "    X_ans = X_0\n",
    "    for i in range( k ):\n",
    "        if i == 0:\n",
    "            X_ans = Gamma + K.dot( y[i][0] )\n",
    "            continue\n",
    "        else:\n",
    "            X_ans = Phi.dot( X_ans ) + Gamma + K.dot( (y[i] - C.dot( X_ans ))[0] )\n",
    "        X.append( X_ans )\n",
    "        \n",
    "    return X"
   ]
  },
  {
   "cell_type": "code",
   "execution_count": null,
   "metadata": {},
   "outputs": [],
   "source": []
  },
  {
   "cell_type": "code",
   "execution_count": 42,
   "metadata": {},
   "outputs": [],
   "source": [
    "a = 1 - np.exp( -1/4 )\n",
    "omega = np.array( [ [ 0, a ** (-1) * np.exp( -1/4 ) ], [ 1 ,1 - a ** (-1) ] ] )\n",
    "psi = np.array( [ [a- 1/4 * a**(-1) * np.exp(-1/4) + np.exp(-1/4)], [ a ** (-1)*1/4 - 1 ] ] )"
   ]
  },
  {
   "cell_type": "code",
   "execution_count": 43,
   "metadata": {},
   "outputs": [],
   "source": [
    "Phi = np.array( [ [ np.exp( -1/4 ), 0 ], [ a, 1 ] ] )\n",
    "Gamma = np.array( [ [a], [ 1/4 - a ] ] )\n",
    "C = np.array( [ 1, 0 ] )\n",
    "u = lambda k: np.piecewise( k, k>=0, [1, 0] )\n",
    "def y( k ):\n",
    "    X = np.array( [ [0], [0] ] )\n",
    "    k_ = max( k )\n",
    "    y_o = []\n",
    "    for i in range( k_+1 ):\n",
    "        y_o.append( C.dot( X ) )         \n",
    "        X = Phi.dot( X ) + Gamma.dot( u(i) )\n",
    "    return np.array(y_o[ min(k):max(k)+1 ])"
   ]
  },
  {
   "cell_type": "code",
   "execution_count": 44,
   "metadata": {},
   "outputs": [
    {
     "name": "stderr",
     "output_type": "stream",
     "text": [
      "<ipython-input-44-55a4f8dd651e>:2: UserWarning: In Matplotlib 3.3 individual lines on a stem plot will be added as a LineCollection instead of individual lines. This significantly improves the performance of a stem plot. To remove this warning and switch to the new behaviour, set the \"use_line_collection\" keyword argument to True.\n",
      "  plt.stem( k, y(k) )\n"
     ]
    },
    {
     "data": {
      "image/png": "[encoded data removed]",
      "text/plain": [
       "<Figure size 720x480 with 1 Axes>"
      ]
     },
     "metadata": {
      "needs_background": "light"
     },
     "output_type": "display_data"
    }
   ],
   "source": [
    "k = np.arange( 0, 20 )\n",
    "plt.stem( k, y(k) )\n",
    "plt.grid()"
   ]
  },
  {
   "cell_type": "code",
   "execution_count": 45,
   "metadata": {},
   "outputs": [],
   "source": [
    "k_1 = - np.exp( -1/2 ) / ( 1 - np.exp( -1/4 ) )\n",
    "k_2 = 1 + np.exp( -1/4 )\n",
    "n = 300\n",
    "k = np.arange( n )\n",
    "K = np.array( [ [k_1], [k_2] ] )\n",
    "X = np.array( [ [0], [0] ] )\n",
    "x_o = observer( omega, psi, y, u, n )\n",
    "x_do = dinamic_observer( Phi, Gamma, C, K ,y(k), n, X )"
   ]
  },
  {
   "cell_type": "code",
   "execution_count": 46,
   "metadata": {},
   "outputs": [
    {
     "name": "stdout",
     "output_type": "stream",
     "text": [
      "{1: [], 2: []}\n",
      "{1: [], 2: []}\n"
     ]
    }
   ],
   "source": [
    "X_do = separate_states( np.array(x_do), 2 )\n",
    "X_o = separate_states( np.array( x_o ), 2 )"
   ]
  },
  {
   "cell_type": "code",
   "execution_count": 47,
   "metadata": {},
   "outputs": [],
   "source": [
    "X_1 = []\n",
    "X_2 = []\n",
    "X = np.array( [ [0], [0] ] )\n",
    "for x_ in x_o:\n",
    "    X_1.append( X[0] )\n",
    "    X_2.append( X[1] )\n",
    "    X = (Phi.dot( X ) + Gamma).reshape( 2,1 )"
   ]
  },
  {
   "cell_type": "code",
   "execution_count": 51,
   "metadata": {},
   "outputs": [
    {
     "data": {
      "image/png": "[encoded data removed]",
      "text/plain": [
       "<Figure size 720x480 with 1 Axes>"
      ]
     },
     "metadata": {
      "needs_background": "light"
     },
     "output_type": "display_data"
    }
   ],
   "source": [
    "k_max = 30\n",
    "k = np.arange( 0, k_max + 1, 1 )\n",
    "plt.scatter( k+2, np.array(X_o[1][:k_max+1]), label='$x_{1,o}$' )\n",
    "plt.scatter( k+1, X_do[1][:k_max+1], label='$x_{1,do}$' )\n",
    "plt.scatter( k, X_1[:k_max+1], label='$x_1$', marker='x' )\n",
    "plt.legend()\n",
    "plt.grid()"
   ]
  },
  {
   "cell_type": "code",
   "execution_count": 39,
   "metadata": {},
   "outputs": [
    {
     "data": {
      "text/plain": [
       "[array([0]),\n",
       " array([0.22119922]),\n",
       " array([0.39346934]),\n",
       " array([0.52763345]),\n",
       " array([0.63212056]),\n",
       " array([0.7134952]),\n",
       " array([0.77686984]),\n",
       " array([0.82622606]),\n",
       " array([0.86466472]),\n",
       " array([0.89460078]),\n",
       " array([0.917915]),\n",
       " array([0.93607214]),\n",
       " array([0.95021293]),\n",
       " array([0.96122579]),\n",
       " array([0.96980262]),\n",
       " array([0.97648225]),\n",
       " array([0.98168436]),\n",
       " array([0.98573577]),\n",
       " array([0.988891]),\n",
       " array([0.9913483]),\n",
       " array([0.99326205]),\n",
       " array([0.99475248]),\n",
       " array([0.99591323]),\n",
       " array([0.99681722]),\n",
       " array([0.99752125]),\n",
       " array([0.99806955]),\n",
       " array([0.99849656]),\n",
       " array([0.99882912]),\n",
       " array([0.99908812]),\n",
       " array([0.99928983]),\n",
       " array([0.99944692]),\n",
       " array([0.99956926]),\n",
       " array([0.99966454]),\n",
       " array([0.99973874]),\n",
       " array([0.99979653]),\n",
       " array([0.99984154]),\n",
       " array([0.99987659]),\n",
       " array([0.99990389]),\n",
       " array([0.99992515]),\n",
       " array([0.99994171]),\n",
       " array([0.9999546]),\n",
       " array([0.99996464]),\n",
       " array([0.99997246]),\n",
       " array([0.99997855]),\n",
       " array([0.9999833]),\n",
       " array([0.99998699]),\n",
       " array([0.99998987]),\n",
       " array([0.99999211]),\n",
       " array([0.99999386]),\n",
       " array([0.99999521]),\n",
       " array([0.99999627]),\n",
       " array([0.9999971]),\n",
       " array([0.99999774]),\n",
       " array([0.99999824]),\n",
       " array([0.99999863]),\n",
       " array([0.99999893]),\n",
       " array([0.99999917]),\n",
       " array([0.99999935]),\n",
       " array([0.9999995]),\n",
       " array([0.99999961]),\n",
       " array([0.99999969]),\n",
       " array([0.99999976]),\n",
       " array([0.99999981]),\n",
       " array([0.99999986]),\n",
       " array([0.99999989]),\n",
       " array([0.99999991]),\n",
       " array([0.99999993]),\n",
       " array([0.99999995]),\n",
       " array([0.99999996]),\n",
       " array([0.99999997]),\n",
       " array([0.99999997]),\n",
       " array([0.99999998]),\n",
       " array([0.99999998]),\n",
       " array([0.99999999]),\n",
       " array([0.99999999]),\n",
       " array([0.99999999]),\n",
       " array([0.99999999]),\n",
       " array([1.]),\n",
       " array([1.]),\n",
       " array([1.]),\n",
       " array([1.]),\n",
       " array([1.]),\n",
       " array([1.]),\n",
       " array([1.]),\n",
       " array([1.]),\n",
       " array([1.]),\n",
       " array([1.]),\n",
       " array([1.]),\n",
       " array([1.]),\n",
       " array([1.]),\n",
       " array([1.]),\n",
       " array([1.]),\n",
       " array([1.]),\n",
       " array([1.]),\n",
       " array([1.]),\n",
       " array([1.]),\n",
       " array([1.]),\n",
       " array([1.]),\n",
       " array([1.]),\n",
       " array([1.]),\n",
       " array([1.]),\n",
       " array([1.]),\n",
       " array([1.]),\n",
       " array([1.]),\n",
       " array([1.]),\n",
       " array([1.]),\n",
       " array([1.]),\n",
       " array([1.]),\n",
       " array([1.]),\n",
       " array([1.]),\n",
       " array([1.]),\n",
       " array([1.]),\n",
       " array([1.]),\n",
       " array([1.]),\n",
       " array([1.]),\n",
       " array([1.]),\n",
       " array([1.]),\n",
       " array([1.]),\n",
       " array([1.]),\n",
       " array([1.]),\n",
       " array([1.]),\n",
       " array([1.]),\n",
       " array([1.]),\n",
       " array([1.]),\n",
       " array([1.]),\n",
       " array([1.]),\n",
       " array([1.]),\n",
       " array([1.]),\n",
       " array([1.]),\n",
       " array([1.]),\n",
       " array([1.]),\n",
       " array([1.]),\n",
       " array([1.]),\n",
       " array([1.]),\n",
       " array([1.]),\n",
       " array([1.]),\n",
       " array([1.]),\n",
       " array([1.]),\n",
       " array([1.]),\n",
       " array([1.]),\n",
       " array([1.]),\n",
       " array([1.]),\n",
       " array([1.]),\n",
       " array([1.]),\n",
       " array([1.]),\n",
       " array([1.]),\n",
       " array([1.]),\n",
       " array([1.]),\n",
       " array([1.]),\n",
       " array([1.]),\n",
       " array([1.]),\n",
       " array([1.]),\n",
       " array([1.]),\n",
       " array([1.]),\n",
       " array([1.]),\n",
       " array([1.]),\n",
       " array([1.]),\n",
       " array([1.]),\n",
       " array([1.]),\n",
       " array([1.]),\n",
       " array([1.]),\n",
       " array([1.]),\n",
       " array([1.]),\n",
       " array([1.]),\n",
       " array([1.]),\n",
       " array([1.]),\n",
       " array([1.]),\n",
       " array([1.]),\n",
       " array([1.]),\n",
       " array([1.]),\n",
       " array([1.]),\n",
       " array([1.]),\n",
       " array([1.]),\n",
       " array([1.]),\n",
       " array([1.]),\n",
       " array([1.]),\n",
       " array([1.]),\n",
       " array([1.]),\n",
       " array([1.]),\n",
       " array([1.]),\n",
       " array([1.]),\n",
       " array([1.]),\n",
       " array([1.]),\n",
       " array([1.]),\n",
       " array([1.]),\n",
       " array([1.]),\n",
       " array([1.]),\n",
       " array([1.]),\n",
       " array([1.]),\n",
       " array([1.]),\n",
       " array([1.]),\n",
       " array([1.]),\n",
       " array([1.]),\n",
       " array([1.]),\n",
       " array([1.]),\n",
       " array([1.]),\n",
       " array([1.]),\n",
       " array([1.]),\n",
       " array([1.]),\n",
       " array([1.]),\n",
       " array([1.]),\n",
       " array([1.]),\n",
       " array([1.]),\n",
       " array([1.]),\n",
       " array([1.]),\n",
       " array([1.]),\n",
       " array([1.]),\n",
       " array([1.]),\n",
       " array([1.]),\n",
       " array([1.]),\n",
       " array([1.]),\n",
       " array([1.]),\n",
       " array([1.]),\n",
       " array([1.]),\n",
       " array([1.]),\n",
       " array([1.]),\n",
       " array([1.]),\n",
       " array([1.]),\n",
       " array([1.]),\n",
       " array([1.]),\n",
       " array([1.]),\n",
       " array([1.]),\n",
       " array([1.]),\n",
       " array([1.]),\n",
       " array([1.]),\n",
       " array([1.]),\n",
       " array([1.]),\n",
       " array([1.]),\n",
       " array([1.]),\n",
       " array([1.]),\n",
       " array([1.]),\n",
       " array([1.]),\n",
       " array([1.]),\n",
       " array([1.]),\n",
       " array([1.]),\n",
       " array([1.]),\n",
       " array([1.]),\n",
       " array([1.]),\n",
       " array([1.]),\n",
       " array([1.]),\n",
       " array([1.]),\n",
       " array([1.]),\n",
       " array([1.]),\n",
       " array([1.]),\n",
       " array([1.]),\n",
       " array([1.]),\n",
       " array([1.]),\n",
       " array([1.]),\n",
       " array([1.]),\n",
       " array([1.]),\n",
       " array([1.]),\n",
       " array([1.]),\n",
       " array([1.]),\n",
       " array([1.]),\n",
       " array([1.]),\n",
       " array([1.]),\n",
       " array([1.]),\n",
       " array([1.]),\n",
       " array([1.]),\n",
       " array([1.]),\n",
       " array([1.]),\n",
       " array([1.]),\n",
       " array([1.]),\n",
       " array([1.]),\n",
       " array([1.]),\n",
       " array([1.]),\n",
       " array([1.]),\n",
       " array([1.]),\n",
       " array([1.]),\n",
       " array([1.]),\n",
       " array([1.]),\n",
       " array([1.]),\n",
       " array([1.]),\n",
       " array([1.]),\n",
       " array([1.]),\n",
       " array([1.]),\n",
       " array([1.]),\n",
       " array([1.]),\n",
       " array([1.]),\n",
       " array([1.]),\n",
       " array([1.]),\n",
       " array([1.]),\n",
       " array([1.]),\n",
       " array([1.]),\n",
       " array([1.]),\n",
       " array([1.]),\n",
       " array([1.]),\n",
       " array([1.]),\n",
       " array([1.]),\n",
       " array([1.]),\n",
       " array([1.]),\n",
       " array([1.]),\n",
       " array([1.]),\n",
       " array([1.]),\n",
       " array([1.]),\n",
       " array([1.]),\n",
       " array([1.]),\n",
       " array([1.]),\n",
       " array([1.])]"
      ]
     },
     "execution_count": 39,
     "metadata": {},
     "output_type": "execute_result"
    }
   ],
   "source": [
    "X_1"
   ]
  },
  {
   "cell_type": "code",
   "execution_count": null,
   "metadata": {},
   "outputs": [],
   "source": []
  }
 ],
 "metadata": {
  "kernelspec": {
   "display_name": "Python 3",
   "language": "python",
   "name": "python3"
  },
  "language_info": {
   "codemirror_mode": {
    "name": "ipython",
    "version": 3
   },
   "file_extension": ".py",
   "mimetype": "text/x-python",
   "name": "python",
   "nbconvert_exporter": "python",
   "pygments_lexer": "ipython3",
   "version": "3.8.3"
  }
 },
 "nbformat": 4,
 "nbformat_minor": 4
}
