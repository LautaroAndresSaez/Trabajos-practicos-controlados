{
 "cells": [
  {
   "cell_type": "code",
   "execution_count": 8,
   "metadata": {},
   "outputs": [],
   "source": [
    "import control \n",
    "import numpy as np \n",
    "import matplotlib.pyplot as plt"
   ]
  },
  {
   "cell_type": "markdown",
   "metadata": {},
   "source": [
    "## Ejercicio 1"
   ]
  },
  {
   "cell_type": "code",
   "execution_count": 9,
   "metadata": {},
   "outputs": [],
   "source": [
    "A = np.array( [[0 , 1], [-1, 0] ] )\n",
    "B = np.array( [ [ 0, 1 ] ] )\n",
    "C = np.array( [0, 1] )\n",
    "D = np.array( [ 0 ] )"
   ]
  },
  {
   "cell_type": "code",
   "execution_count": 10,
   "metadata": {},
   "outputs": [],
   "source": [
    "G_a = control.StateSpace( A, B.T, C, D )"
   ]
  },
  {
   "cell_type": "code",
   "execution_count": 11,
   "metadata": {},
   "outputs": [
    {
     "data": {
      "text/plain": [
       "A = [[-1.00000000e+00  2.35127499e-16]\n",
       " [-2.35127499e-16 -1.00000000e+00]]\n",
       "\n",
       "B = [[2.00000000e+00]\n",
       " [2.35127499e-16]]\n",
       "\n",
       "C = [[0. 1.]]\n",
       "\n",
       "D = [[0.]]\n",
       "\n",
       "dt = 3.141592653589793"
      ]
     },
     "execution_count": 11,
     "metadata": {},
     "output_type": "execute_result"
    }
   ],
   "source": [
    "G_a_d = control.c2d( G_a, np.pi, 'zoh' )\n",
    "G_a_d"
   ]
  },
  {
   "cell_type": "code",
   "execution_count": 12,
   "metadata": {},
   "outputs": [],
   "source": [
    "A = np.array( [[0 , 1], [-2, -3] ] )\n",
    "B = np.array( [ [ 0, 0 ], [ 3, 1 ] ] )\n",
    "C = np.array( [1, 0] )\n",
    "D = np.array( [ 0, 0 ] )"
   ]
  },
  {
   "cell_type": "code",
   "execution_count": 13,
   "metadata": {},
   "outputs": [],
   "source": [
    "G_b = control.StateSpace( A, B, C, D )"
   ]
  },
  {
   "cell_type": "code",
   "execution_count": 14,
   "metadata": {},
   "outputs": [
    {
     "data": {
      "text/plain": [
       "A = [[ 0.6004236   0.23254416]\n",
       " [-0.46508832 -0.09720887]]\n",
       "\n",
       "B = [[0.5993646  0.1997882 ]\n",
       " [0.69763247 0.23254416]]\n",
       "\n",
       "C = [[1. 0.]]\n",
       "\n",
       "D = [[0. 0.]]\n",
       "\n",
       "dt = 1"
      ]
     },
     "execution_count": 14,
     "metadata": {},
     "output_type": "execute_result"
    }
   ],
   "source": [
    "control.c2d( G_b, 1, 'zoh' )"
   ]
  },
  {
   "cell_type": "code",
   "execution_count": 15,
   "metadata": {},
   "outputs": [
    {
     "data": {
      "text/plain": [
       "array([-1., -2.])"
      ]
     },
     "execution_count": 15,
     "metadata": {},
     "output_type": "execute_result"
    }
   ],
   "source": [
    "control.pole(G_b)"
   ]
  },
  {
   "cell_type": "code",
   "execution_count": 16,
   "metadata": {},
   "outputs": [],
   "source": [
    "A = np.array( [[0 , 1, 0], [0, 0, 1], [0, 0, 0] ] )\n",
    "B = np.array( [ [ 0, 0, 1 ] ] ).T\n",
    "C = np.array( [1, 0, 0] )\n",
    "D = np.array( [ 0 ] )"
   ]
  },
  {
   "cell_type": "code",
   "execution_count": 17,
   "metadata": {},
   "outputs": [],
   "source": [
    "G_c = control.StateSpace( A, B, C, D )"
   ]
  },
  {
   "cell_type": "code",
   "execution_count": 18,
   "metadata": {},
   "outputs": [
    {
     "data": {
      "text/plain": [
       "A = [[1.  1.  0.5]\n",
       " [0.  1.  1. ]\n",
       " [0.  0.  1. ]]\n",
       "\n",
       "B = [[0.16666667]\n",
       " [0.5       ]\n",
       " [1.        ]]\n",
       "\n",
       "C = [[1. 0. 0.]]\n",
       "\n",
       "D = [[0.]]\n",
       "\n",
       "dt = 1"
      ]
     },
     "execution_count": 18,
     "metadata": {},
     "output_type": "execute_result"
    }
   ],
   "source": [
    "control.c2d( G_c, 1, 'zoh' )"
   ]
  },
  {
   "cell_type": "code",
   "execution_count": null,
   "metadata": {},
   "outputs": [],
   "source": []
  },
  {
   "cell_type": "markdown",
   "metadata": {},
   "source": [
    "## Ejercicio 3"
   ]
  },
  {
   "cell_type": "code",
   "execution_count": 48,
   "metadata": {},
   "outputs": [],
   "source": [
    "p = lambda h: np.exp(-a * h)"
   ]
  },
  {
   "cell_type": "code",
   "execution_count": 49,
   "metadata": {},
   "outputs": [],
   "source": [
    "h = np.linspace( 0, 1, 2000 )\n",
    "a = -2 \n",
    "p_eval = p(h)"
   ]
  },
  {
   "cell_type": "code",
   "execution_count": 50,
   "metadata": {},
   "outputs": [
    {
     "data": {
      "image/png": "[encoded data removed]",
      "text/plain": [
       "<Figure size 432x288 with 1 Axes>"
      ]
     },
     "metadata": {
      "needs_background": "light"
     },
     "output_type": "display_data"
    }
   ],
   "source": [
    "plt.plot( h, p_eval  )\n",
    "plt.grid()\n"
   ]
  },
  {
   "cell_type": "code",
   "execution_count": 52,
   "metadata": {},
   "outputs": [],
   "source": [
    "escalon = lambda t: np.piecewise(t, t>=0, [1, 0])\n",
    "y = lambda t: -c*b/a * ( np.exp( -a * t ) - 1 ) * escalon( t )\n",
    "y_k = lambda k: -c*b/a * ( np.exp(-a * h * k) - 1 ) * escalon( k - 1 )"
   ]
  },
  {
   "cell_type": "code",
   "execution_count": 53,
   "metadata": {},
   "outputs": [],
   "source": [
    "t = np.linspace( 0, 2, 2000 )"
   ]
  },
  {
   "cell_type": "code",
   "execution_count": 54,
   "metadata": {},
   "outputs": [],
   "source": [
    "a = -2\n",
    "b = 1\n",
    "c = 1"
   ]
  },
  {
   "cell_type": "code",
   "execution_count": 55,
   "metadata": {},
   "outputs": [],
   "source": [
    "h = 1 / a "
   ]
  },
  {
   "cell_type": "code",
   "execution_count": null,
   "metadata": {},
   "outputs": [],
   "source": [
    "k = np.arange( 0, int( 2 / h ), 1 )"
   ]
  }
 ],
 "metadata": {
  "kernelspec": {
   "display_name": "Python 3",
   "language": "python",
   "name": "python3"
  },
  "language_info": {
   "codemirror_mode": {
    "name": "ipython",
    "version": 3
   },
   "file_extension": ".py",
   "mimetype": "text/x-python",
   "name": "python",
   "nbconvert_exporter": "python",
   "pygments_lexer": "ipython3",
   "version": "3.8.3"
  }
 },
 "nbformat": 4,
 "nbformat_minor": 4
}
