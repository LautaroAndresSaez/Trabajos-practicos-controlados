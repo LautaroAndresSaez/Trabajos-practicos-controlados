{
 "cells": [
  {
   "cell_type": "code",
   "execution_count": 2,
   "metadata": {},
   "outputs": [],
   "source": [
    "import control \n",
    "import numpy as np \n",
    "import matplotlib.pyplot as plt\n",
    "plt.rcParams.update({\n",
    "    'figure.dpi': 120\n",
    "})"
   ]
  },
  {
   "cell_type": "code",
   "execution_count": 3,
   "metadata": {},
   "outputs": [],
   "source": [
    "s = control.TransferFunction.s\n",
    "PATH = '../Img'"
   ]
  },
  {
   "cell_type": "code",
   "execution_count": 4,
   "metadata": {},
   "outputs": [],
   "source": [
    "def image_path( name ):\n",
    "    return f'{PATH}/{name}.png'"
   ]
  },
  {
   "cell_type": "markdown",
   "metadata": {},
   "source": [
    "## Ejercicio 1"
   ]
  },
  {
   "cell_type": "code",
   "execution_count": 5,
   "metadata": {},
   "outputs": [],
   "source": [
    "A = np.array( [[0 , 1], [-1, 0] ] )\n",
    "B = np.array( [ [ 0, 1 ] ] )\n",
    "C = np.array( [0, 1] )\n",
    "D = np.array( [ 0 ] )"
   ]
  },
  {
   "cell_type": "code",
   "execution_count": 6,
   "metadata": {},
   "outputs": [],
   "source": [
    "G_a = control.StateSpace( A, B.T, C, D )"
   ]
  },
  {
   "cell_type": "code",
   "execution_count": 7,
   "metadata": {},
   "outputs": [
    {
     "data": {
      "text/plain": [
       "A = [[-1.00000000e+00  2.35127499e-16]\n",
       " [-2.35127499e-16 -1.00000000e+00]]\n",
       "\n",
       "B = [[2.00000000e+00]\n",
       " [2.35127499e-16]]\n",
       "\n",
       "C = [[0. 1.]]\n",
       "\n",
       "D = [[0.]]\n",
       "\n",
       "dt = 3.141592653589793"
      ]
     },
     "execution_count": 7,
     "metadata": {},
     "output_type": "execute_result"
    }
   ],
   "source": [
    "G_a_d = control.c2d( G_a, np.pi, 'zoh' )\n",
    "G_a_d"
   ]
  },
  {
   "cell_type": "code",
   "execution_count": 8,
   "metadata": {},
   "outputs": [],
   "source": [
    "A = np.array( [[0 , 1], [-2, -3] ] )\n",
    "B = np.array( [ [ 0, 0 ], [ 3, 1 ] ] )\n",
    "C = np.array( [1, 0] )\n",
    "D = np.array( [ 0, 0 ] )"
   ]
  },
  {
   "cell_type": "code",
   "execution_count": 9,
   "metadata": {},
   "outputs": [],
   "source": [
    "G_b = control.StateSpace( A, B, C, D )"
   ]
  },
  {
   "cell_type": "markdown",
   "metadata": {},
   "source": [
    "### Resuelvo el sistema de ecuaciones del inciso b)"
   ]
  },
  {
   "cell_type": "code",
   "execution_count": 10,
   "metadata": {},
   "outputs": [
    {
     "data": {
      "text/plain": [
       "array([[ 1.5],\n",
       "       [ 0.5],\n",
       "       [-2. ]])"
      ]
     },
     "execution_count": 10,
     "metadata": {},
     "output_type": "execute_result"
    }
   ],
   "source": [
    "A = np.array( [ [ 1, 1, 1 ], [ 3, 1, 2 ], [2, 0, 0] ] )\n",
    "b = np.array( [[ 0, 1, 3 ]] ).T\n",
    "np.linalg.inv(A).dot(b)"
   ]
  },
  {
   "cell_type": "code",
   "execution_count": 11,
   "metadata": {},
   "outputs": [
    {
     "data": {
      "text/latex": [
       "$$\\frac{s + 3}{s^2 + 3 s + 2}$$"
      ],
      "text/plain": [
       "\n",
       "    s + 3\n",
       "-------------\n",
       "s^2 + 3 s + 2"
      ]
     },
     "execution_count": 11,
     "metadata": {},
     "output_type": "execute_result"
    }
   ],
   "source": [
    "G_b = ( s + 3 ) / ( s ** 2 + 3 * s + 2  )\n",
    "G_b"
   ]
  },
  {
   "cell_type": "code",
   "execution_count": 12,
   "metadata": {},
   "outputs": [
    {
     "data": {
      "text/latex": [
       "$$\\frac{0.8319 z - 0.01205}{z^2 - 0.5032 z + 0.04979}\\quad dt = 1$$"
      ],
      "text/plain": [
       "\n",
       "   0.8319 z - 0.01205\n",
       "------------------------\n",
       "z^2 - 0.5032 z + 0.04979\n",
       "\n",
       "dt = 1"
      ]
     },
     "execution_count": 12,
     "metadata": {},
     "output_type": "execute_result"
    }
   ],
   "source": [
    "control.c2d( G_b, 1, 'zoh' )"
   ]
  },
  {
   "cell_type": "code",
   "execution_count": 13,
   "metadata": {},
   "outputs": [
    {
     "data": {
      "text/plain": [
       "(0.8319087592754217,\n",
       " -0.012050243335708324,\n",
       " -0.503214724408055,\n",
       " 0.04978706836786395)"
      ]
     },
     "execution_count": 13,
     "metadata": {},
     "output_type": "execute_result"
    }
   ],
   "source": [
    "h = 1\n",
    "alpha = lambda i: np.exp( -( 2 - i ) * h )\n",
    "alphas = [ alpha(0), alpha(1), alpha(-1) ]\n",
    "b = -4 * alphas[0] + alphas[1] + 3 * alphas[-1]\n",
    "a = alphas[0] - 4 * alphas[1] + 3\n",
    "a/2, b/2, - alphas[0] - alphas[1], alphas[0] * alphas[1]"
   ]
  },
  {
   "cell_type": "code",
   "execution_count": 14,
   "metadata": {},
   "outputs": [],
   "source": [
    "A = np.array( [[0 , 1, 0], [0, 0, 1], [0, 0, 0] ] )\n",
    "B = np.array( [ [ 0, 0, 1 ] ] ).T\n",
    "C = np.array( [1, 0, 0] )\n",
    "D = np.array( [ 0 ] )"
   ]
  },
  {
   "cell_type": "code",
   "execution_count": 15,
   "metadata": {},
   "outputs": [],
   "source": [
    "G_c = control.StateSpace( A, B, C, D )"
   ]
  },
  {
   "cell_type": "code",
   "execution_count": 16,
   "metadata": {},
   "outputs": [
    {
     "data": {
      "text/plain": [
       "A = [[1.  1.  0.5]\n",
       " [0.  1.  1. ]\n",
       " [0.  0.  1. ]]\n",
       "\n",
       "B = [[0.16666667]\n",
       " [0.5       ]\n",
       " [1.        ]]\n",
       "\n",
       "C = [[1. 0. 0.]]\n",
       "\n",
       "D = [[0.]]\n",
       "\n",
       "dt = 1"
      ]
     },
     "execution_count": 16,
     "metadata": {},
     "output_type": "execute_result"
    }
   ],
   "source": [
    "control.c2d( G_c, 1, 'zoh' )"
   ]
  },
  {
   "cell_type": "markdown",
   "metadata": {},
   "source": [
    "## Ejercicio 2"
   ]
  },
  {
   "cell_type": "code",
   "execution_count": 17,
   "metadata": {},
   "outputs": [
    {
     "data": {
      "text/plain": [
       "array([[ 2., -1.],\n",
       "       [ 1.,  0.]])"
      ]
     },
     "execution_count": 17,
     "metadata": {},
     "output_type": "execute_result"
    }
   ],
   "source": [
    "h = 9\n",
    "T = lambda h: h / 2 * np.array( [ [h, h], [2, -2] ] )\n",
    "Phi = lambda h: np.array( [ [1, h], [0, 1] ] )\n",
    "T_inv = lambda h: np.linalg.inv( T(h) )\n",
    "T_inv(h).dot( Phi(h) ).dot(T(h))"
   ]
  },
  {
   "cell_type": "markdown",
   "metadata": {},
   "source": [
    "## Ejercicio 3"
   ]
  },
  {
   "cell_type": "code",
   "execution_count": 18,
   "metadata": {},
   "outputs": [],
   "source": [
    "p = lambda h: np.exp(-a * h)"
   ]
  },
  {
   "cell_type": "code",
   "execution_count": 19,
   "metadata": {},
   "outputs": [],
   "source": [
    "h = np.linspace( 0, 1, 2000 )\n",
    "a = 2 \n",
    "p_eval = p(h)"
   ]
  },
  {
   "cell_type": "code",
   "execution_count": 20,
   "metadata": {},
   "outputs": [
    {
     "data": {
      "image/png": "[encoded data removed]",
      "text/plain": [
       "<Figure size 720x480 with 1 Axes>"
      ]
     },
     "metadata": {
      "needs_background": "light"
     },
     "output_type": "display_data"
    }
   ],
   "source": [
    "plt.plot( h, p_eval  )\n",
    "plt.grid()\n"
   ]
  },
  {
   "cell_type": "code",
   "execution_count": 21,
   "metadata": {},
   "outputs": [],
   "source": [
    "escalon = lambda t: np.piecewise(t, t>=0, [1, 0])\n",
    "y = lambda t: -c*b/a * ( np.exp( -a * t ) - 1 ) * escalon( t )\n",
    "y_k = lambda k: -c*b/a * ( np.exp(-a * h * k) - 1 ) * escalon( k - 1 )"
   ]
  },
  {
   "cell_type": "code",
   "execution_count": 22,
   "metadata": {},
   "outputs": [],
   "source": [
    "t = np.linspace( 0, 10, 2000 )"
   ]
  },
  {
   "cell_type": "code",
   "execution_count": 23,
   "metadata": {},
   "outputs": [],
   "source": [
    "a = 2\n",
    "b = 1\n",
    "c = 1"
   ]
  },
  {
   "cell_type": "code",
   "execution_count": 24,
   "metadata": {},
   "outputs": [],
   "source": [
    "tao =  1 / a\n",
    "hs = [tao, tao/10, 10 * tao  ]"
   ]
  },
  {
   "cell_type": "code",
   "execution_count": 25,
   "metadata": {},
   "outputs": [
    {
     "name": "stdout",
     "output_type": "stream",
     "text": [
      "0.5\n",
      "0.05\n",
      "5.0\n"
     ]
    }
   ],
   "source": [
    "ks = []\n",
    "ys = []\n",
    "for h in hs:\n",
    "    k =  np.arange( 0, int( 10 / h ) + 1, 1 ) \n",
    "    ks.append( k )\n",
    "    ys.append( y_k(k) )\n",
    "    print(h)"
   ]
  },
  {
   "cell_type": "code",
   "execution_count": 26,
   "metadata": {},
   "outputs": [
    {
     "data": {
      "image/png": "[encoded data removed]",
      "text/plain": [
       "<Figure size 720x480 with 1 Axes>"
      ]
     },
     "metadata": {
      "needs_background": "light"
     },
     "output_type": "display_data"
    }
   ],
   "source": [
    "plt.plot( t, y(t), 'k--', label='y(s)' )\n",
    "\n",
    "plt.scatter( ks[0] * hs[0], ys[0], c='g', label=f'y[k] - h={round(hs[0], 2)}', marker='^', alpha=.8)\n",
    "plt.scatter( ks[1] * hs[1], ys[1],  label=f'y[k] - h={round(hs[1], 2)}', marker='s', alpha=.25 )\n",
    "plt.scatter( ks[2] * hs[2], ys[2], c='r', label=f'y[k] - h={round(hs[2], 2)}' )\n",
    "\n",
    "plt.xlabel('t [s]')\n",
    "plt.grid()\n",
    "plt.legend()\n",
    "plt.savefig( image_path( '3-c' ) )"
   ]
  },
  {
   "cell_type": "code",
   "execution_count": 27,
   "metadata": {},
   "outputs": [],
   "source": [
    "z = control.TransferFunction.z"
   ]
  },
  {
   "cell_type": "code",
   "execution_count": 28,
   "metadata": {},
   "outputs": [
    {
     "ename": "TypeError",
     "evalue": "freqresp() missing 1 required positional argument: 'omega'",
     "output_type": "error",
     "traceback": [
      "\u001b[0;31m---------------------------------------------------------------------------\u001b[0m",
      "\u001b[0;31mTypeError\u001b[0m                                 Traceback (most recent call last)",
      "\u001b[0;32m<ipython-input-28-d2a2d35043bb>\u001b[0m in \u001b[0;36m<module>\u001b[0;34m\u001b[0m\n\u001b[1;32m      1\u001b[0m \u001b[0mH\u001b[0m \u001b[0;34m=\u001b[0m \u001b[0;34m(\u001b[0m\u001b[0mz\u001b[0m\u001b[0;34m)\u001b[0m \u001b[0;34m/\u001b[0m \u001b[0;34m(\u001b[0m \u001b[0mz\u001b[0m \u001b[0;34m-\u001b[0m \u001b[0;36m1\u001b[0m \u001b[0;34m)\u001b[0m\u001b[0;34m\u001b[0m\u001b[0;34m\u001b[0m\u001b[0m\n\u001b[0;32m----> 2\u001b[0;31m \u001b[0mcontrol\u001b[0m\u001b[0;34m.\u001b[0m\u001b[0mfreqresp\u001b[0m\u001b[0;34m(\u001b[0m\u001b[0mH\u001b[0m\u001b[0;34m)\u001b[0m\u001b[0;34m\u001b[0m\u001b[0;34m\u001b[0m\u001b[0m\n\u001b[0m",
      "\u001b[0;31mTypeError\u001b[0m: freqresp() missing 1 required positional argument: 'omega'"
     ]
    }
   ],
   "source": [
    "H = (z) / ( z - 1 )\n",
    "control.freqresp(H)"
   ]
  },
  {
   "cell_type": "code",
   "execution_count": null,
   "metadata": {},
   "outputs": [],
   "source": []
  },
  {
   "cell_type": "code",
   "execution_count": null,
   "metadata": {},
   "outputs": [],
   "source": [
    "G"
   ]
  },
  {
   "cell_type": "code",
   "execution_count": null,
   "metadata": {},
   "outputs": [],
   "source": []
  }
 ],
 "metadata": {
  "kernelspec": {
   "display_name": "Python 3",
   "language": "python",
   "name": "python3"
  },
  "language_info": {
   "codemirror_mode": {
    "name": "ipython",
    "version": 3
   },
   "file_extension": ".py",
   "mimetype": "text/x-python",
   "name": "python",
   "nbconvert_exporter": "python",
   "pygments_lexer": "ipython3",
   "version": "3.8.3"
  }
 },
 "nbformat": 4,
 "nbformat_minor": 4
}
